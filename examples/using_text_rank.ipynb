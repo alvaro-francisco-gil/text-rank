{
 "cells": [
  {
   "cell_type": "markdown",
   "metadata": {},
   "source": [
    "# How to Use Text Rank"
   ]
  },
  {
   "cell_type": "markdown",
   "metadata": {},
   "source": [
    "# [![Open In Colab](https://colab.research.google.com/assets/colab-badge.svg)](https://colab.research.google.com/github/alvaro-francisco-gil/text-rank/blob/main/examples/using_text_rank.ipynb)\n"
   ]
  },
  {
   "cell_type": "markdown",
   "metadata": {},
   "source": [
    "## Install  Library"
   ]
  },
  {
   "cell_type": "code",
   "execution_count": null,
   "metadata": {},
   "outputs": [],
   "source": [
    "!pip install git+https://github.com/alvaro-francisco-gil/text-rank.git"
   ]
  },
  {
   "cell_type": "markdown",
   "metadata": {},
   "source": [
    "## Basic Usage"
   ]
  },
  {
   "cell_type": "code",
   "execution_count": null,
   "metadata": {},
   "outputs": [],
   "source": [
    "from text_rank import TextRankKeywordExtractor\n",
    "\n",
    "extractor = TextRankKeywordExtractor(window_size=5)"
   ]
  },
  {
   "cell_type": "code",
   "execution_count": 2,
   "metadata": {},
   "outputs": [
    {
     "name": "stdout",
     "output_type": "stream",
     "text": [
      "\n",
      "Extracted keywords: [('machine', 0.15525755334511443), ('learning', 0.15525755334511443), ('processing', 0.13480829115294352), ('fields', 0.13480829115294352), ('computer', 0.11485540497728197), ('language', 0.11485540497728196), ('science', 0.09507875052466004), ('natural', 0.09507875052466004)]\n"
     ]
    }
   ],
   "source": [
    "text = \"\"\"\n",
    "Natural language processing (NLP) is a subfield of linguistics, computer science, and artificial intelligence \n",
    "concerned with the interactions between computers and human language. It is used to apply algorithms to identify \n",
    "and extract the natural language rules such that unstructured language data is converted into a form that computers \n",
    "can understand.\n",
    "\"\"\"\n",
    "\n",
    "keywords = extractor.extract_keywords(text, top_n=10)\n",
    "for word, score in keywords:\n",
    "    print(f\"{word}: {score:.4f}\")"
   ]
  },
  {
   "cell_type": "markdown",
   "metadata": {},
   "source": [
    "## Analyzing Text Files"
   ]
  },
  {
   "cell_type": "code",
   "execution_count": null,
   "metadata": {},
   "outputs": [],
   "source": [
    "from text_rank.utils import analyze_text_file, analyze_multiple_files\n",
    "\n",
    "# Analyze a single file (all keywords)\n",
    "keywords = analyze_text_file('your_text_file.txt')\n",
    "\n",
    "# Analyze a single file (top 10 keywords)\n",
    "top_keywords = analyze_text_file('your_text_file.txt', top_n=10)\n",
    "\n",
    "# Analyze multiple files\n",
    "file_paths = ['file1.txt', 'file2.txt', 'file3.txt']\n",
    "results = analyze_multiple_files(file_paths)  # Returns all keywords for each file"
   ]
  },
  {
   "cell_type": "markdown",
   "metadata": {},
   "source": [
    "## Exporting the Co-occurrence Graph"
   ]
  },
  {
   "cell_type": "code",
   "execution_count": null,
   "metadata": {},
   "outputs": [],
   "source": [
    "# Build and export the graph\n",
    "graph = extractor.build_cooccurrence_graph(text)\n",
    "extractor.export_pajek(graph, 'output_graph.net')"
   ]
  }
 ],
 "metadata": {
  "kernelspec": {
   "display_name": "text_rank_env",
   "language": "python",
   "name": "python3"
  },
  "language_info": {
   "codemirror_mode": {
    "name": "ipython",
    "version": 3
   },
   "file_extension": ".py",
   "mimetype": "text/x-python",
   "name": "python",
   "nbconvert_exporter": "python",
   "pygments_lexer": "ipython3",
   "version": "3.10.16"
  }
 },
 "nbformat": 4,
 "nbformat_minor": 2
}
