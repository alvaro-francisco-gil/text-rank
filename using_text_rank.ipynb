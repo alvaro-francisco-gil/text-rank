{
 "cells": [
  {
   "cell_type": "code",
   "execution_count": null,
   "metadata": {},
   "outputs": [],
   "source": [
    "import sys\n",
    "sys.path.append(\"..\")\n",
    "\n",
    "from text_rank import TextRankKeywordExtractor"
   ]
  },
  {
   "cell_type": "code",
   "execution_count": 1,
   "metadata": {},
   "outputs": [
    {
     "ename": "NameError",
     "evalue": "name 'TextRankKeywordExtractor' is not defined",
     "output_type": "error",
     "traceback": [
      "\u001b[1;31m---------------------------------------------------------------------------\u001b[0m",
      "\u001b[1;31mNameError\u001b[0m                                 Traceback (most recent call last)",
      "Cell \u001b[1;32mIn[1], line 1\u001b[0m\n\u001b[1;32m----> 1\u001b[0m extractor \u001b[38;5;241m=\u001b[39m \u001b[43mTextRankKeywordExtractor\u001b[49m(window_size\u001b[38;5;241m=\u001b[39m\u001b[38;5;241m5\u001b[39m)\n\u001b[0;32m      2\u001b[0m text \u001b[38;5;241m=\u001b[39m \u001b[38;5;124m\"\u001b[39m\u001b[38;5;124mYour document text here...\u001b[39m\u001b[38;5;124m\"\u001b[39m\n\u001b[0;32m      4\u001b[0m \u001b[38;5;66;03m# Get keywords with scores\u001b[39;00m\n",
      "\u001b[1;31mNameError\u001b[0m: name 'TextRankKeywordExtractor' is not defined"
     ]
    }
   ],
   "source": [
    "extractor = TextRankKeywordExtractor(window_size=5)\n",
    "text = \"Your document text here...\"\n",
    "\n",
    "# Get keywords with scores\n",
    "keywords = extractor.extract_keywords(text)\n",
    "\n",
    "# Export graph for one document\n",
    "graph = extractor.build_cooccurrence_graph(text)\n",
    "extractor.export_pajek(graph, \"document1.net\")\n"
   ]
  }
 ],
 "metadata": {
  "kernelspec": {
   "display_name": "text_rank_env",
   "language": "python",
   "name": "python3"
  },
  "language_info": {
   "codemirror_mode": {
    "name": "ipython",
    "version": 3
   },
   "file_extension": ".py",
   "mimetype": "text/x-python",
   "name": "python",
   "nbconvert_exporter": "python",
   "pygments_lexer": "ipython3",
   "version": "3.10.16"
  }
 },
 "nbformat": 4,
 "nbformat_minor": 2
}
